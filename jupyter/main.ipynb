{
 "cells": [
  {
   "cell_type": "code",
   "execution_count": null,
   "metadata": {},
   "outputs": [],
   "source": [
    "%pip install openai\n",
    "%pip install langchain langchain-core langchain-community"
   ]
  },
  {
   "cell_type": "code",
   "execution_count": 2,
   "metadata": {},
   "outputs": [],
   "source": [
    "import os\n",
    "from dotenv import load_dotenv\n",
    "\n",
    "load_dotenv()\n",
    "\n",
    "# Define the environment variables and LLM model\n",
    "MARITALK_API_KEY = os.getenv('MARITALK_API_KEY')\n",
    "MARITALK_LLM_MODEL = \"sabiazinho-3\""
   ]
  },
  {
   "cell_type": "code",
   "execution_count": 8,
   "metadata": {},
   "outputs": [],
   "source": [
    "# USER INPUT\n",
    "\n",
    "user_input = \"Faca um resumo do livro 'O Pequeno Principe' de Antoine de Saint-Exupéry\""
   ]
  },
  {
   "cell_type": "code",
   "execution_count": 9,
   "metadata": {},
   "outputs": [],
   "source": [
    "# SYSTEM PROMPT\n",
    "\n",
    "system_prompt =  \"\"\"\n",
    "<role>\n",
    "    Atue como um Professor de Algoritmos e Programação, especializado em desenvolver o raciocínio lógico dos estudantes. \n",
    "    Seu objetivo é guiar o aprendizado sem fornecer soluções prontas em código.\n",
    "</role>\n",
    "\n",
    "<context>\n",
    "    Você está em um ambiente educacional onde os estudantes estão aprendendo fundamentos de algoritmos e programação. \n",
    "    Seu papel é desenvolver a capacidade de resolução de problemas e o pensamento algorítmico deles, não resolver os problemas por eles.\n",
    "</context>\n",
    "\n",
    "<constraints>\n",
    "    Nunca forneça código completo em nenhuma linguagem de programação.\n",
    "    Não use sintaxe específica de linguagens de programação mesmo em exemplos parciais.\n",
    "    Evite fazer o trabalho do aluno; em vez disso, guie seu raciocínio.\n",
    "    Quando necessário utilize pseudocódigo para ilustrar conceitos mas nunca ilustrando toda a resolção.\n",
    "    Não responda a perguntas que não estejam relacionadas a algoritmos, lógica de programação ou ciência da computação.\n",
    "    Não discuta tópicos sensíveis, políticos, ilegais ou não relacionados ao ensino de programação.\n",
    "</constraints>\n",
    "\n",
    "<approach>\n",
    "    <name>Desenvolvimento do Raciocínio</name>\n",
    "    <action>\n",
    "        Faça perguntas socráticas para guiar o pensamento do aluno.\n",
    "        Incentive a decomposição do problema em subproblemas.\n",
    "        Destaque padrões algorítmicos relevantes sem revelar a solução.\n",
    "    </action>\n",
    "    \n",
    "    <name>Análise e Refinamento</name>\n",
    "    <action>\n",
    "        Discuta a complexidade de tempo e espaço.\n",
    "        Explore possíveis otimizações.\n",
    "        Avalie diferentes abordagens.\n",
    "    </action>\n",
    "</approach>\n",
    "\n",
    "<out_of_scope>\n",
    "    Exemplos de solicitações fora de escopo:\n",
    "        Solicitações para desenvolver projetos completos ou trabalhos acadêmicos.\n",
    "        Perguntas não relacionadas a algoritmos e programação.\n",
    "        Implementações em linguagens de programação específicas.\n",
    "        Solicitações para burlar sistemas de avaliação ou plagiar.\n",
    "        Tópicos ilegais, antiéticos ou prejudiciais.\n",
    "</out_of_scope>\n",
    "  \n",
    "<negative_feedback>\n",
    "    Utilize do seguinte feedback e apenas este para qualquer pergunta fora do escopo:\n",
    "        A resposta fornecida não está relacionada a algoritmos e programação. Por favor, tente reformular sua pergunta para que possamos ajudá-lo.\n",
    "</negative_feedback>\n",
    "\"\"\""
   ]
  },
  {
   "cell_type": "markdown",
   "metadata": {},
   "source": [
    "# SIMPLE LLM INVOKE"
   ]
  },
  {
   "cell_type": "code",
   "execution_count": null,
   "metadata": {},
   "outputs": [],
   "source": [
    "from langchain_community.chat_models import ChatMaritalk\n",
    "from langchain_core.output_parsers import StrOutputParser\n",
    "from langchain_core.prompts.chat import ChatPromptTemplate\n",
    "\n",
    "llm = ChatMaritalk(\n",
    "    model=MARITALK_LLM_MODEL,\n",
    "    api_key=MARITALK_API_KEY,\n",
    "    max_tokens=1000,\n",
    ")\n",
    "\n",
    "output_parser = StrOutputParser()\n",
    "\n",
    "chat_prompt = ChatPromptTemplate.from_messages(\n",
    "    [\n",
    "        (\"system\", system_prompt),\n",
    "        (\"human\", user_input)\n",
    "    ]\n",
    ")\n",
    "\n",
    "chain = chat_prompt | llm | output_parser\n",
    "\n",
    "response = chain.invoke({})\n",
    "print(response)"
   ]
  },
  {
   "cell_type": "markdown",
   "metadata": {},
   "source": [
    "# END-TO-END AGENT\n",
    "\n",
    "The code snippet below represents a fully functional agent that uses an LLM to decide which tools to use. It is equipped with a generic search tool. It has conversational memory - meaning that it can be used as a multi-turn chatbot.\n",
    "\n",
    "In the rest of the guide, we will walk through the individual components and what each part does - but if you want to just grab some code and get started, feel free to use this\n"
   ]
  },
  {
   "cell_type": "code",
   "execution_count": null,
   "metadata": {},
   "outputs": [],
   "source": [
    "%pip install langgraph \n",
    "%pip install langgraph-checkpoint-sqlite\n",
    "%pip install tavily-python "
   ]
  },
  {
   "cell_type": "code",
   "execution_count": null,
   "metadata": {},
   "outputs": [],
   "source": [
    "# Import relevant functionality\n",
    "from langchain_community.chat_models import ChatMaritalk\n",
    "from langchain_core.prompts.chat import ChatPromptTemplate\n",
    "\n",
    "from langchain_community.tools.tavily_search import TavilySearchResults\n",
    "from langchain_core.messages import HumanMessage\n",
    "from langgraph.checkpoint.memory import MemorySaver\n",
    "from langgraph.prebuilt import create_react_agent\n",
    "\n",
    "# Create the agent\n",
    "memory = MemorySaver()\n",
    "\n",
    "# Creat llm model\n",
    "model = ChatMaritalk(\n",
    "    model_name=MARITALK_LLM_MODEL,\n",
    "    api_key=MARITALK_API_KEY,\n",
    "    max_tokens=1000,\n",
    ")\n",
    "\n",
    "chat_prompt = ChatPromptTemplate.from_messages(\n",
    "    [\n",
    "        (\"system\", system_prompt),\n",
    "        (\"human\", user_input)\n",
    "    ]\n",
    ")\n",
    "\n",
    "\n",
    "search = TavilySearchResults(max_results=2)\n",
    "tools = [search]\n",
    "agent_executor = create_react_agent(model, tools, checkpointer=memory)"
   ]
  }
 ],
 "metadata": {
  "kernelspec": {
   "display_name": "Python 3",
   "language": "python",
   "name": "python3"
  },
  "language_info": {
   "codemirror_mode": {
    "name": "ipython",
    "version": 3
   },
   "file_extension": ".py",
   "mimetype": "text/x-python",
   "name": "python",
   "nbconvert_exporter": "python",
   "pygments_lexer": "ipython3",
   "version": "3.12.0"
  }
 },
 "nbformat": 4,
 "nbformat_minor": 2
}
