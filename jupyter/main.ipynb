{
 "cells": [
  {
   "cell_type": "code",
   "execution_count": null,
   "metadata": {},
   "outputs": [],
   "source": [
    "%pip install openai\n",
    "%pip install langchain langchain-core langchain-community"
   ]
  },
  {
   "cell_type": "code",
   "execution_count": null,
   "metadata": {},
   "outputs": [],
   "source": [
    "from langchain_community.chat_models import ChatMaritalk\n",
    "from langchain_core.output_parsers import StrOutputParser\n",
    "from langchain_core.prompts.chat import ChatPromptTemplate\n",
    "\n",
    "llm = ChatMaritalk(\n",
    "    model=\"sabiazinho-3\",\n",
    "    api_key='',\n",
    "    max_tokens=1000,\n",
    ")\n",
    "\n",
    "output_parser = StrOutputParser()\n",
    "\n",
    "user_input = \"Faça um algoritmo que leia três valores inteiros diferentes e imprima na tela os valores em ordem decrescente.\"\n",
    "\n",
    "system_prompt =  \"\"\"\n",
    "<context>\n",
    "    Você é um professor de algoritmos que dado uma questão de programação\n",
    "    deve ajudar o usuário a resolver o problema.\n",
    "    Tenha foco em explicar principalmente o raciocínio por trás da solução.\n",
    "</context>       \n",
    "\"\"\"\n",
    "\n",
    "chat_prompt = ChatPromptTemplate.from_messages(\n",
    "    [\n",
    "        (\"system\", system_prompt),\n",
    "        (\"human\", \"Me ajude a resolver o seguinte problema {algorithm_problem}\"),\n",
    "    ]\n",
    ")\n",
    "\n",
    "chain = chat_prompt | llm | output_parser\n",
    "\n",
    "response = chain.invoke({\"algorithm_problem\": user_input})\n",
    "print(response)"
   ]
  }
 ],
 "metadata": {
  "kernelspec": {
   "display_name": "Python 3",
   "language": "python",
   "name": "python3"
  },
  "language_info": {
   "codemirror_mode": {
    "name": "ipython",
    "version": 3
   },
   "file_extension": ".py",
   "mimetype": "text/x-python",
   "name": "python",
   "nbconvert_exporter": "python",
   "pygments_lexer": "ipython3",
   "version": "3.12.0"
  }
 },
 "nbformat": 4,
 "nbformat_minor": 2
}
